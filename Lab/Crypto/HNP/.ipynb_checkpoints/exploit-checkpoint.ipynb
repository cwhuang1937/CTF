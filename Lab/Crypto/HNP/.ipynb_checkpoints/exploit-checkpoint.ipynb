{
 "cells": [
  {
   "cell_type": "code",
   "execution_count": 1,
   "metadata": {},
   "outputs": [],
   "source": [
    "from pwn import *\n",
    "from Crypto.Util.number import *\n",
    "from hashlib import sha256\n",
    "from ecdsa.ecdsa import Public_key, Private_key, Signature\n",
    "from ecdsa import SECP256k1"
   ]
  },
  {
   "cell_type": "code",
   "execution_count": 2,
   "metadata": {},
   "outputs": [
    {
     "name": "stdout",
     "output_type": "stream",
     "text": [
      "[x] Opening connection to edu-ctf.csie.org on port 42072\n",
      "[x] Opening connection to edu-ctf.csie.org on port 42072: Trying 140.112.31.97\n",
      "[+] Opening connection to edu-ctf.csie.org on port 42072: Done\n",
      "d = 109189701929391500370132498119015337112214870388184539623212027459078535392262\n",
      "b'FLAG{fcf8ab2bc7b42bbd00e5be2b3d311ec6e8a89526}\\n'\n"
     ]
    }
   ],
   "source": [
    "p = remote('edu-ctf.csie.org', 42072)\n",
    "q = p.recvline().split()\n",
    "# x = int(q[2][1:-1])\n",
    "# y = int(q[3][:-1])\n",
    "# print(f'pubkey_x = {x}')\n",
    "# print(f'pubkey_y = {y}')\n",
    "r1 = r2 = s1 = s2 = 0\n",
    "E = SECP256k1\n",
    "G = E.generator\n",
    "n = E.order\n",
    "\n",
    "for i in range(3):\n",
    "    p.recvline()\n",
    "    p.recvline()\n",
    "    p.recvline()\n",
    "    p.recvline()\n",
    "    \n",
    "    if i == 0:\n",
    "        p.sendline(b'1')\n",
    "        p.recvline()\n",
    "        p.sendline(b'shit')\n",
    "        q = p.recvline().split()\n",
    "        r1 = int(q[2][1:-1])\n",
    "        s1 = int(q[3][:-1])\n",
    "#         print(r1)\n",
    "#         print(s1)\n",
    "    elif i == 1:\n",
    "        p.sendline(b'1')\n",
    "        p.recvline()\n",
    "        p.sendline(b'shit')\n",
    "        q = p.recvline().split()\n",
    "        r2 = int(q[2][1:-1])\n",
    "        s2 = int(q[3][:-1])\n",
    "#         print(r2)\n",
    "#         print(s2)\n",
    "    else:    \n",
    "        h = bytes_to_long(sha256(b'shit').digest())\n",
    "        d = (1337*s2*h-s1*h) * inverse_mod(s1*r2-1337*s2*r1, n) % n\n",
    "        print(f'd = {d}')\n",
    "        k = (h*inverse_mod(s1, n) + d*r1*inverse_mod(s1, n)) % n\n",
    "        pubkey = Public_key(G, d*G)\n",
    "        prikey = Private_key(pubkey, d)\n",
    "        \n",
    "        h = sha256(b'Kuruwa').digest()\n",
    "        sig = prikey.sign(bytes_to_long(h), k)\n",
    "        r = sig.r\n",
    "        s = sig.s\n",
    "\n",
    "#         pubkey = Public_key(G, k*G)\n",
    "#         prikey = Private_key(pubkey, d)\n",
    "#         x1 = pubkey.point.x()\n",
    "#         h = int.from_bytes(h, \"big\")\n",
    "#         r = x1%n\n",
    "#         s = (h + d*r) * inverse_mod(k, n) %n\n",
    "\n",
    "        p.sendline(b'2')\n",
    "        p.recvuntil(b'username: ')\n",
    "        p.sendline(b'Kuruwa')\n",
    "        p.recvuntil(b'r: ')\n",
    "        p.sendline(str(r).encode())\n",
    "        p.recvuntil(b's: ')\n",
    "        p.sendline(str(s).encode())\n",
    "\n",
    "        print(p.recvline())"
   ]
  },
  {
   "cell_type": "code",
   "execution_count": null,
   "metadata": {},
   "outputs": [],
   "source": []
  }
 ],
 "metadata": {
  "kernelspec": {
   "display_name": "SageMath 9.0",
   "language": "sage",
   "name": "sagemath"
  },
  "language_info": {
   "codemirror_mode": {
    "name": "ipython",
    "version": 3
   },
   "file_extension": ".py",
   "mimetype": "text/x-python",
   "name": "python",
   "nbconvert_exporter": "python",
   "pygments_lexer": "ipython3",
   "version": "3.8.10"
  }
 },
 "nbformat": 4,
 "nbformat_minor": 4
}
