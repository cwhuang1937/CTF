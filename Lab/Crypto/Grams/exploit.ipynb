{
 "cells": [
  {
   "cell_type": "code",
   "execution_count": 2,
   "source": [
    "import random\r\n",
    "import json\r\n",
    "import functools as fn\r\n",
    "import numpy as np\r\n",
    "import string\r\n",
    "import hashlib\r\n",
    "\r\n",
    "charset = string.ascii_lowercase+string.digits+',. '\r\n",
    "charset_idmap = {e: i for i, e in enumerate(charset)}\r\n",
    "\r\n",
    "ksz = 80"
   ],
   "outputs": [],
   "metadata": {}
  },
  {
   "cell_type": "code",
   "execution_count": 67,
   "source": [
    "def decrypt(ctx, key):\r\n",
    "    N, ksz = len(charset), len(key)\r\n",
    "    return ''.join(charset[(c-key[i % ksz]) % N] for i, c in enumerate(ctx))\r\n",
    "\r\n",
    "def toPrintable(data):\r\n",
    "    ul = ord('_')\r\n",
    "    data = bytes(c if 32 <= c < 127 else ul for c in data)\r\n",
    "    return data.decode('ascii')\r\n",
    "\r\n",
    "with open('./output.txt') as f:\r\n",
    "    ctx = f.readline().strip()[4:]\r\n",
    "    enc = bytes.fromhex(f.readline().strip()[6:])\r\n",
    "ctx = [charset_idmap[c] for c in ctx]\r\n",
    "\r\n",
    "with open('./ngrams.json') as f:\r\n",
    "    ngrams = json.load(f)\r\n"
   ],
   "outputs": [],
   "metadata": {}
  },
  {
   "cell_type": "code",
   "execution_count": 4,
   "source": [
    "@fn.lru_cache(10000)\r\n",
    "def get_trigram(x):\r\n",
    "    x = ''.join(x)\r\n",
    "    y = ngrams.get(x)\r\n",
    "    if y is not None:\r\n",
    "        return y\r\n",
    "    ys = []\r\n",
    "    a, b = ngrams.get(x[:2]), ngrams.get(x[2:])\r\n",
    "    if a is not None and b is not None:\r\n",
    "        ys.append(a+b)\r\n",
    "    a, b = ngrams.get(x[:1]), ngrams.get(x[1:])\r\n",
    "    if a is not None and b is not None:\r\n",
    "        ys.append(a+b)\r\n",
    "    if len(ys):\r\n",
    "        return max(ys)\r\n",
    "    if any(c not in ngrams for c in x):\r\n",
    "        return -25\r\n",
    "    return sum(map(ngrams.get, x))\r\n",
    "\r\n",
    "@fn.lru_cache(10000)\r\n",
    "def fitness(a):\r\n",
    "    plain = decrypt(ctx, a)\r\n",
    "    tgs = zip(plain, plain[1:], plain[2:])\r\n",
    "    score = sum(get_trigram(tg) for tg in tgs)\r\n",
    "    return score\r\n",
    "\r\n",
    "def initialize(size):\r\n",
    "    population = []\r\n",
    "    for i in range(size):\r\n",
    "        key = tuple(random.randrange(len(charset)) for _ in range(ksz))\r\n",
    "        population.append(key)\r\n",
    "    return population\r\n",
    "\r\n",
    "def crossover(a, b, prob):\r\n",
    "    r = list(a)\r\n",
    "    for i in range(len(r)):\r\n",
    "        if random.random() < prob:\r\n",
    "            r[i] = b[i]\r\n",
    "    return tuple(r)\r\n",
    "\r\n",
    "def mutate(a):\r\n",
    "    r = list(a)\r\n",
    "    i = random.randrange(len(a))\r\n",
    "    r[i] = random.randrange(len(charset))\r\n",
    "    return tuple(r)"
   ],
   "outputs": [],
   "metadata": {}
  },
  {
   "cell_type": "code",
   "execution_count": 44,
   "source": [
    "keys = np.array(initialize(7000))\r\n",
    "scores = np.array([])\r\n",
    "for i in keys:\r\n",
    "    scores = np.append(scores, fitness(tuple(i)))\r\n"
   ],
   "outputs": [],
   "metadata": {}
  },
  {
   "cell_type": "code",
   "execution_count": 45,
   "source": [
    "keys = keys[scores.argsort()[::-1]][:600]"
   ],
   "outputs": [],
   "metadata": {}
  },
  {
   "cell_type": "code",
   "execution_count": null,
   "source": [
    "for m in range(2000):\r\n",
    "    np.random.shuffle(keys)\r\n",
    "    for i in range(len(keys)//2):\r\n",
    "        child = np.array(crossover(keys[i*2], keys[i*2+1], 0.45))\r\n",
    "        keys = np.concatenate((keys, [child]))\r\n",
    "    np.random.shuffle(keys)\r\n",
    "    for i in range(len(keys)//2):\r\n",
    "        keys[i] = mutate(keys[i])\r\n",
    "    scores = np.array([])\r\n",
    "    for i in keys:\r\n",
    "        scores = np.append(scores, fitness(tuple(i)))\r\n",
    "\r\n",
    "    keys = keys[scores.argsort()[::-1]][:600]\r\n",
    "    scores = scores[scores.argsort()[::-1]][:600]\r\n",
    "\r\n",
    "    print(m, int(scores[0]), decrypt(ctx, keys[0]))"
   ],
   "outputs": [],
   "metadata": {}
  },
  {
   "cell_type": "code",
   "execution_count": 59,
   "source": [
    "keys[0]\r\n",
    "# print(charset_idmap)"
   ],
   "outputs": [
    {
     "output_type": "execute_result",
     "data": {
      "text/plain": [
       "array([24, 23, 23, 21, 12, 11, 12, 33,  9, 15, 37, 25, 20, 17, 36,  1, 26,\n",
       "       31, 35, 17, 23, 11,  2, 19, 15, 28, 25,  8,  4, 31, 29, 21, 25, 24,\n",
       "       19, 14, 32, 19, 16, 34, 27,  0, 28,  8, 21, 24, 21, 10, 21, 28,  4,\n",
       "        2,  6, 32, 20, 33, 11, 10, 36, 34, 31, 30, 28, 12, 10,  2, 19, 27,\n",
       "       38,  7,  0, 20, 29, 38, 27,  2, 21, 17,  1, 28])"
      ]
     },
     "metadata": {},
     "execution_count": 59
    }
   ],
   "metadata": {}
  },
  {
   "cell_type": "code",
   "execution_count": 61,
   "source": [
    "x = 'gimli is a 384 bits permutation designed to achieve high security with high performance across a broad range of platforms. it is currently in round 2 of the nist lightweight cryptographic project, the submission consisting of an authenticated encryption and a cryptographic hash function. in this paper, we focus on the gimli cipher, which performs authenticated encryption with associated data.'\r\n",
    "y = '45d6ukumip,ppi9c8loq9lt89iz1mgdu22.w 6u.0tdhv02szkibnb0bk2b,mi,58bc9so 1.f8b,vs7 bdvznq6jrpa 99bz6n5ukbapc5mdg8ub9t7.77hg.1qbx32u4ytx,7nw89df3g04pw01goz2s8gu4jhewc3ss5qnxe6aq slhp50yc.w,1htje430 l5 x 0sjj76a23drbih7mt2qdf,10pbtb.hua,dbv3tbi203zzn3sy8ga7q,o349qwy0.8d5zeh,31x0ol0pain413 8iu,rbza2mkz,k9izl6gs6nju 2nbbbyf145d6ukocywcdrqti87dq9lt13g.0d5kb6267bvqo5d1m80 8,imqt5dc4r98kjdosc 5cgduj z'\r\n",
    "\r\n",
    "N = len(charset)\r\n",
    "ksz = 80\r\n",
    "tmp = []\r\n",
    "\r\n",
    "for i in range(ksz):\r\n",
    "    tmp.append((charset_idmap[y[i]] + N - charset_idmap[x[i]])%N)"
   ],
   "outputs": [],
   "metadata": {}
  },
  {
   "cell_type": "code",
   "execution_count": 72,
   "source": [
    "k = hashlib.sha512(''.join(charset[k] for k in tmp).encode('ascii')).digest()\r\n",
    "flag = bytes(ci ^ ki for ci, ki in zip(enc.ljust(len(k), b'\\0'), k))\r\n",
    "flag"
   ],
   "outputs": [
    {
     "output_type": "execute_result",
     "data": {
      "text/plain": [
       "b'FLAG{3c7166f852e3eaed71c81875e0c290562eff2c0}\\n\\x00\\x00\\x00\\x00\\x00\\x00\\x00\\x00\\x00\\x00\\x00\\x00\\x00\\x00\\x00\\x00\\x00\\x00'"
      ]
     },
     "metadata": {},
     "execution_count": 72
    }
   ],
   "metadata": {}
  },
  {
   "cell_type": "code",
   "execution_count": null,
   "source": [],
   "outputs": [],
   "metadata": {}
  }
 ],
 "metadata": {
  "orig_nbformat": 4,
  "language_info": {
   "name": "python",
   "version": "3.8.5",
   "mimetype": "text/x-python",
   "codemirror_mode": {
    "name": "ipython",
    "version": 3
   },
   "pygments_lexer": "ipython3",
   "nbconvert_exporter": "python",
   "file_extension": ".py"
  },
  "kernelspec": {
   "name": "python3",
   "display_name": "Python 3.8.5 32-bit"
  },
  "interpreter": {
   "hash": "2f6abd3e6861de12bebc1a1bc9fce42e51db24bc610a56fe22348b3d44c6674e"
  }
 },
 "nbformat": 4,
 "nbformat_minor": 2
}