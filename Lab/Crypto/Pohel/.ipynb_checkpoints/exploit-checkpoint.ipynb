{
 "cells": [
  {
   "cell_type": "code",
   "execution_count": 32,
   "metadata": {},
   "outputs": [],
   "source": [
    "from sage.groups.generic import bsgs\n",
    "import random\n",
    "import hashlib"
   ]
  },
  {
   "cell_type": "code",
   "execution_count": 50,
   "metadata": {},
   "outputs": [
    {
     "data": {
      "text/plain": [
       "(2 * 40420777 * 69078979 * 189543349 * 446616229 * 561588961 * 1343925763 * 1945316203 * 2067671399 * 2865468883 * 2888438503 * 2899749631 * 2932105903 * 3274070801 * 4023368071 * 4041418553 * 4273228951,\n",
       " b'\\xc4\\x01T\\x9a\\x04ei\\x14\\xf9(\\x81d\\xf6)\\x8c\\xcc\\tw\\x1d\\x88\\x05\\xdbrH\\xe3\\x16+\\x86#|\\xef\\xd2b\\x1d\\xf9e\\t\\xd8\\xd9\\xf3-\\xbd/V\\xc6\\xc4\\x14\\x14\\x97\\x1b\\x99\\x0f1\\xf8\\x0c\\xed\\x0c\\xfeN\\xac\\x89\\xf5Z\\x93')"
      ]
     },
     "execution_count": 50,
     "metadata": {},
     "output_type": "execute_result"
    }
   ],
   "source": [
    "g = 2\n",
    "n = 22975024372641088191783192950030840455936651367831116706532074148973552639475113523713622342956112126457710740633725263638116108451282253328304547\n",
    "c = 3391562491073162069780474526700107230909189849786338234577033763865425503028855096698198069367193995675035849507973902223745251492606324520756666\n",
    "enc = bytes.fromhex('c401549a04656914f9288164f6298ccc09771d8805db7248e3162b86237cefd2621df96509d8d9f32dbd2f56c6c41414971b990f31f80ced0cfe4eac89f55a93')\n",
    "f = factor(n-1)\n",
    "f, flag"
   ]
  },
  {
   "cell_type": "code",
   "execution_count": 40,
   "metadata": {},
   "outputs": [
    {
     "data": {
      "text/plain": [
       "True"
      ]
     },
     "execution_count": 40,
     "metadata": {},
     "output_type": "execute_result"
    }
   ],
   "source": [
    "f = [fi[0] for fi in f]\n",
    "x = []\n",
    "for fi in f:\n",
    "    gi = pow(g, (n-1)//fi, n)\n",
    "    hi = pow(c, (n-1)//fi, n)\n",
    "    xi = bsgs(gi, hi, (0, fi))\n",
    "    x.append(xi)\n",
    "x = crt(x, f)\n",
    "pow(g, x, n) == c"
   ]
  },
  {
   "cell_type": "code",
   "execution_count": 52,
   "metadata": {},
   "outputs": [
    {
     "data": {
      "text/plain": [
       "b'FLAG{0e8dc88cd3dc6717bf1e98126ccd295e559f9a03}\\n\\x00\\x00\\x00\\x00\\x00\\x00\\x00\\x00\\x00\\x00\\x00\\x00\\x00\\x00\\x00\\x00\\x00'"
      ]
     },
     "execution_count": 52,
     "metadata": {},
     "output_type": "execute_result"
    }
   ],
   "source": [
    "k = hashlib.sha512(str(x).encode('ascii')).digest()\n",
    "flag = bytes(ci ^^ ki for ci, ki in zip(enc.ljust(len(k), b'\\0'), k))\n",
    "flag"
   ]
  },
  {
   "cell_type": "code",
   "execution_count": null,
   "metadata": {},
   "outputs": [],
   "source": []
  }
 ],
 "metadata": {
  "kernelspec": {
   "display_name": "SageMath 9.0",
   "language": "sage",
   "name": "sagemath"
  },
  "language_info": {
   "codemirror_mode": {
    "name": "ipython",
    "version": 3
   },
   "file_extension": ".py",
   "mimetype": "text/x-python",
   "name": "python",
   "nbconvert_exporter": "python",
   "pygments_lexer": "ipython3",
   "version": "3.8.10"
  }
 },
 "nbformat": 4,
 "nbformat_minor": 4
}
