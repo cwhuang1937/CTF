{
 "cells": [
  {
   "cell_type": "code",
   "execution_count": 1,
   "metadata": {},
   "outputs": [],
   "source": [
    "from pwn import *\n",
    "import os\n",
    "import binascii\n",
    "\n",
    "def step():\n",
    "    global state\n",
    "    out = state & 1   \n",
    "    state >>= 1\n",
    "    if out:\n",
    "        state ^^= poly\n",
    "    return out\n",
    "    \n",
    "\n",
    "def random():\n",
    "    for _ in range(42):\n",
    "        step()\n",
    "    return step()\n"
   ]
  },
  {
   "cell_type": "code",
   "execution_count": 2,
   "metadata": {},
   "outputs": [
    {
     "name": "stdout",
     "output_type": "stream",
     "text": [
      "poly: 1010101000001101001110100110011101111110000110111110000010111111\n",
      "MOD: 11111110100000111110110000111111011100110010111001011000001010101\n"
     ]
    }
   ],
   "source": [
    "poly = bin(0xaa0d3a677e1be0bf)\n",
    "print(f'poly: {poly[2:]}')\n",
    "MOD = '1' + poly[-1:1:-1]\n",
    "print(f'MOD: {MOD}')\n",
    "MOD = int(MOD, 2)\n"
   ]
  },
  {
   "cell_type": "code",
   "execution_count": 3,
   "metadata": {},
   "outputs": [],
   "source": [
    "def gf_step():\n",
    "    global init_state\n",
    "    init_state = init_state * (x^43)\n",
    "    ret = init_state.integer_representation()\n",
    "    return (ret >> 63) & 1\n",
    "\n",
    "# the state size is 64 bits\n",
    "F = GF(2^65)\n",
    "FF.<x> = GF(2^64, modulus=F.fetch_int(MOD))\n",
    "\n",
    "# build the state-transition matrix \n",
    "now_state = 1\n",
    "total = []\n",
    "for _ in range(64):\n",
    "    now = []\n",
    "    now_state *= (x^43)\n",
    "    for i in range(64):\n",
    "        now_bit = x^i\n",
    "        now_bit = now_bit * now_state\n",
    "        now_bit = now_bit.integer_representation()\n",
    "        now_bit = (now_bit >> 63) & 1\n",
    "        now.append(now_bit)\n",
    "    total.append(now)"
   ]
  },
  {
   "cell_type": "code",
   "execution_count": 5,
   "metadata": {},
   "outputs": [
    {
     "name": "stdout",
     "output_type": "stream",
     "text": [
      "[x] Opening connection to edu-ctf.csie.org on port 42069\n",
      "[x] Opening connection to edu-ctf.csie.org on port 42069: Trying 140.112.31.97\n",
      "[+] Opening connection to edu-ctf.csie.org on port 42069: Done\n",
      "seq: [1, 0, 0, 0, 1, 0, 1, 0, 0, 1, 1, 1, 0, 0, 1, 1, 1, 0, 0, 0, 1, 1, 1, 1, 0, 1, 0, 0, 1, 0, 0, 1, 1, 0, 1, 0, 1, 1, 0, 0, 1, 0, 1, 0, 0, 0, 0, 0, 1, 1, 0, 0, 1, 0, 0, 1, 0, 0, 0, 0, 1, 1, 0, 0]\n",
      "ret: (1, 1, 0, 0, 1, 1, 0, 1, 1, 0, 0, 1, 0, 1, 1, 0, 1, 0, 0, 1, 1, 1, 1, 1, 1, 1, 1, 0, 0, 1, 0, 1, 1, 1, 0, 0, 1, 0, 0, 1, 0, 1, 1, 1, 1, 1, 0, 1, 1, 0, 1, 0, 1, 1, 0, 0, 0, 0, 1, 1, 0, 0, 0, 1)\n",
      "b\"Here's your flag:\\nFLAG{2iroO742LwA2ES1Cwewx}\\n\\n\"\n"
     ]
    }
   ],
   "source": [
    "p = remote('edu-ctf.csie.org', 42069)\n",
    "\n",
    "# get the first 64 outputs and store in an array\n",
    "seq = []\n",
    "money = 1.2\n",
    "for _ in range(64):\n",
    "    p.recv()\n",
    "    p.sendline(b'0')\n",
    "    q = float(p.recvline(keepends=False))\n",
    "    if q > money:\n",
    "        seq.append(0)\n",
    "    else:\n",
    "        seq.append(1)\n",
    "    money = q\n",
    "print(f'seq: {seq}')\n",
    "\n",
    "# M*ret = seq\n",
    "M = Matrix(FF, total)\n",
    "seq = Matrix(FF, seq).T\n",
    "ret = (M^-1)*seq\n",
    "ret = ret.T[0]\n",
    "print(f'ret: {ret}')\n",
    "\n",
    "\n",
    "init_state = 0\n",
    "for i in range(64):\n",
    "    init_state += ret[i]*x^i\n",
    "\n",
    "for i in range(64):\n",
    "    gf_step()\n",
    "while money <= 2.4:\n",
    "    p.recv()\n",
    "    p.sendline(str(gf_step()).encode())\n",
    "    money = float(p.recvline(keepends=False))\n",
    "#     print(f'money = {money}')\n",
    "print(p.recv())\n",
    "\n",
    "        \n"
   ]
  },
  {
   "cell_type": "code",
   "execution_count": null,
   "metadata": {},
   "outputs": [],
   "source": []
  }
 ],
 "metadata": {
  "kernelspec": {
   "display_name": "SageMath 9.0",
   "language": "sage",
   "name": "sagemath"
  },
  "language_info": {
   "codemirror_mode": {
    "name": "ipython",
    "version": 3
   },
   "file_extension": ".py",
   "mimetype": "text/x-python",
   "name": "python",
   "nbconvert_exporter": "python",
   "pygments_lexer": "ipython3",
   "version": "3.8.10"
  }
 },
 "nbformat": 4,
 "nbformat_minor": 4
}
