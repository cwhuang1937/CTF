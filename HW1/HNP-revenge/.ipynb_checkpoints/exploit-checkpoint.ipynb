{
 "cells": [
  {
   "cell_type": "code",
   "execution_count": 1,
   "metadata": {},
   "outputs": [],
   "source": [
    "from pwn import *\n",
    "from Crypto.Util.number import *\n",
    "from hashlib import sha256, md5\n",
    "from ecdsa.ecdsa import Public_key, Private_key, Signature\n",
    "from ecdsa import SECP256k1"
   ]
  },
  {
   "cell_type": "code",
   "execution_count": 2,
   "metadata": {},
   "outputs": [],
   "source": [
    "r1 = r2 = s1 = s2 = 0\n",
    "E = SECP256k1\n",
    "G = E.generator\n",
    "n = E.order"
   ]
  },
  {
   "cell_type": "code",
   "execution_count": 3,
   "metadata": {},
   "outputs": [
    {
     "name": "stdout",
     "output_type": "stream",
     "text": [
      "[x] Opening connection to edu-ctf.csie.org on port 42074\n",
      "[x] Opening connection to edu-ctf.csie.org on port 42074: Trying 140.112.31.97\n",
      "[+] Opening connection to edu-ctf.csie.org on port 42074: Done\n",
      "(-66599798083644920224172587841517090880, 29068770577922950172245350748776545281, 340282366920938463463374607431768211455)\n",
      "d = 60816616368588915297945093453191530542859046810109224664773585407250521816622\n",
      "b'FLAG{adfc9b68bd6ec6dbf6b3c9ddd46aafaea06a97ee}\\n'\n"
     ]
    }
   ],
   "source": [
    "Find_Flag = 0\n",
    "while True:\n",
    "    p = remote('edu-ctf.csie.org', 42074)\n",
    "    q = p.recvline().split()\n",
    "#     x = int(q[2][1:-1])\n",
    "#     y = int(q[3][:-1])\n",
    "#     print(f'pubkey_x = {x}')\n",
    "#     print(f'pubkey_y = {y}')\n",
    "    msg1 = b'Kuruwa1'\n",
    "    msg2 = b'Kuruwa2'\n",
    "    h1 = bytes_to_long(sha256(msg1).digest())\n",
    "    h2 = bytes_to_long(sha256(msg2).digest())\n",
    "    \n",
    "    for i in range(3):\n",
    "        p.recv()\n",
    "\n",
    "        if i == 0: # get r1 and s1\n",
    "            p.sendline(b'1')\n",
    "            p.recvline()\n",
    "            p.sendline(msg1)\n",
    "            q = p.recvline().split()\n",
    "            r1 = int(q[0][1:-1])\n",
    "            s1 = int(q[1][:-1])\n",
    "    #         print(r1)\n",
    "    #         print(s1)\n",
    "        elif i == 1: # get r2 and s2\n",
    "            p.sendline(b'1')\n",
    "            p.recvline()\n",
    "            p.sendline(msg2)\n",
    "            q = p.recvline().split()\n",
    "            r2 = int(q[0][1:-1])\n",
    "            s2 = int(q[1][:-1])\n",
    "    #         print(r2)\n",
    "    #         print(s2)\n",
    "        else:    \n",
    "            # calculate some value for lattice\n",
    "            w = int(md5(b'secret').hexdigest(), 16) << 128\n",
    "            t = -s2*r1*inverse_mod(s1, n)*inverse_mod(r2, n) % n\n",
    "            u = (r1*h2*inverse_mod(s1, n)*inverse_mod(r2, n) - h1*inverse_mod(s1, n) + w + t*w) % n\n",
    "\n",
    "            \n",
    "            # use LLL to get the SV\n",
    "            k1 = k2 = 0\n",
    "            K = int(n^(1/2))-1\n",
    "            B = matrix(ZZ, [[n, 0, 0], [t, 1, 0], [u, 0, K]])\n",
    "            for V in B.LLL():\n",
    "                \n",
    "                if V[2] == K and abs(V[0]) < K and abs(V[1]) < K:\n",
    "                    print(V)\n",
    "                    k1 = -V[0]\n",
    "                    k2 = V[1]\n",
    "                    break\n",
    "            # resotre the k1 and k2\n",
    "            k1 += w\n",
    "            k2 += w\n",
    "            \n",
    "            # use k1 or k2 to calculate d, and get the signature\n",
    "            d = (s1*k1*inverse_mod(r1, n) - h1*inverse_mod(r1, n)) % n   \n",
    "            pubkey = Public_key(G, d*G)\n",
    "            prikey = Private_key(pubkey, d)\n",
    "            print(f'd = {d}')\n",
    "            h = sha256(b'Kuruwa').digest()\n",
    "            sig = prikey.sign(bytes_to_long(h), k1)\n",
    "            r = sig.r\n",
    "            s = sig.s\n",
    "\n",
    "            p.sendline(b'2')\n",
    "            p.recvuntil(b'username: ')\n",
    "            p.sendline(b'Kuruwa')\n",
    "            p.recvuntil(b'r: ')\n",
    "            p.sendline(str(r).encode())\n",
    "            p.recvuntil(b's: ')\n",
    "            p.sendline(str(s).encode())\n",
    "            q = p.recvline()\n",
    "            print(q)\n",
    "            \n",
    "            # if get the right flag, break the while loop\n",
    "            if 'FLAG' in q.decode():\n",
    "                Find_Flag = 1\n",
    "    if Find_Flag:\n",
    "        break\n",
    "\n"
   ]
  },
  {
   "cell_type": "code",
   "execution_count": null,
   "metadata": {},
   "outputs": [],
   "source": []
  }
 ],
 "metadata": {
  "kernelspec": {
   "display_name": "SageMath 9.0",
   "language": "sage",
   "name": "sagemath"
  },
  "language_info": {
   "codemirror_mode": {
    "name": "ipython",
    "version": 3
   },
   "file_extension": ".py",
   "mimetype": "text/x-python",
   "name": "python",
   "nbconvert_exporter": "python",
   "pygments_lexer": "ipython3",
   "version": "3.8.10"
  }
 },
 "nbformat": 4,
 "nbformat_minor": 4
}
