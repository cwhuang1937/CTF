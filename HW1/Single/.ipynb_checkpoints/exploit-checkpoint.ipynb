{
 "cells": [
  {
   "cell_type": "code",
   "execution_count": 57,
   "metadata": {},
   "outputs": [],
   "source": [
    "from collections import namedtuple\n",
    "from Crypto.Util.number import inverse, bytes_to_long\n",
    "import hashlib\n",
    "import random\n",
    "\n",
    "Point = namedtuple(\"Point\", \"x y\")\n",
    "O = 'INFINITY'\n",
    "\n"
   ]
  },
  {
   "cell_type": "code",
   "execution_count": 58,
   "metadata": {},
   "outputs": [],
   "source": [
    "p = 9631668579539701602760432524602953084395033948174466686285759025897298205383\n",
    "gx = 5664314881801362353989790109530444623032842167510027140490832957430741393367\n",
    "gy = 3735011281298930501441332016708219762942193860515094934964869027614672869355\n",
    "Ax = 3829488417236560785272607696709023677752676859512573328792921651640651429215\n",
    "Ay = 7947434117984861166834877190207950006170738405923358235762824894524937052000\n",
    "Bx = 9587224500151531060103223864145463144550060225196219072827570145340119297428\n",
    "By = 2527809441042103520997737454058469252175392602635610992457770946515371529908\n"
   ]
  },
  {
   "cell_type": "code",
   "execution_count": 59,
   "metadata": {},
   "outputs": [],
   "source": [
    "def is_on_curve(P):\n",
    "    if P == O:\n",
    "        return True\n",
    "    else:\n",
    "        return (P.y**2 - (P.x**3 + a*P.x + b)) % p == 0 and 0 <= P.x < p and 0 <= P.y < p\n",
    "\n",
    "def point_inverse(P):\n",
    "    if P == O:\n",
    "        return P\n",
    "    return Point(P.x, -P.y % p)\n",
    "\n",
    "def point_addition(P, Q):\n",
    "    if P == O:\n",
    "        return Q\n",
    "    elif Q == O:\n",
    "        return P\n",
    "    elif Q == point_inverse(P):\n",
    "        return O\n",
    "    else:\n",
    "        if P == Q:\n",
    "            s = (3*P.x**2 + a)*inverse(2*P.y, p) % p\n",
    "        else:\n",
    "            s = (Q.y - P.y) * inverse((Q.x - P.x), p) % p\n",
    "    Rx = (s**2 - P.x - Q.x) % p\n",
    "    Ry = (s*(P.x - Rx) - P.y) % p\n",
    "    R = Point(Rx, Ry)\n",
    "    assert is_on_curve(R)\n",
    "    return R\n",
    "\n",
    "def point_multiply(P, d):\n",
    "    bits = bin(d)[2:]\n",
    "    Q = O\n",
    "    for bit in bits:\n",
    "        Q = point_addition(Q, Q)\n",
    "        if bit == '1':\n",
    "            Q = point_addition(Q, P)\n",
    "    assert is_on_curve(Q)\n",
    "    return Q"
   ]
  },
  {
   "cell_type": "code",
   "execution_count": 60,
   "metadata": {},
   "outputs": [
    {
     "name": "stdout",
     "output_type": "stream",
     "text": [
      "a = 9605275265879631008726467740646537125692167794341640822702313056611938432994\n",
      "b = 7839838607707494463758049830515369383778931948114955676985180993569200375480\n"
     ]
    }
   ],
   "source": [
    "a, b = var('a, b')\n",
    "eq1 = (Ay**2 - (Ax**3 + a*Ax + b)).mod(p) == 0\n",
    "eq2 = (By**2 - (Bx**3 + a*Bx + b)).mod(p) == 0\n",
    "res = solve([eq1, eq2], a, b)\n",
    "a = Integer(Mod(res[0][0].rhs().numerator(), p) / Mod(res[0][0].rhs().denominator(), p))\n",
    "b = Integer(Mod(res[0][1].rhs().numerator(), p) / Mod(res[0][1].rhs().denominator(), p))\n",
    "print(f'a = {a}')\n",
    "print(f'b = {b}')"
   ]
  },
  {
   "cell_type": "code",
   "execution_count": 61,
   "metadata": {},
   "outputs": [
    {
     "name": "stdout",
     "output_type": "stream",
     "text": [
      "Singular!\n"
     ]
    }
   ],
   "source": [
    "if (4*a**3 + 27*b**2) % p == 0:\n",
    "    print('Singular!')"
   ]
  },
  {
   "cell_type": "code",
   "execution_count": 73,
   "metadata": {
    "scrolled": true
   },
   "outputs": [
    {
     "name": "stdout",
     "output_type": "stream",
     "text": [
      "x1 = 8778425668366493782038529472271552171423076833119284811370540338595974272969\n",
      "x2 = 853242911173207820721903052331400912971957115055181874915218687301323932414\n",
      "x2 is on curve!\n",
      "(x + 2559728733519623462165709156994202738915871345165545624745656061903971797242) * x^2\n"
     ]
    }
   ],
   "source": [
    "F.<x> = GF(p)[]\n",
    "dx = 3*x**2 + a\n",
    "x1 = Integer(dx.roots()[0][0])\n",
    "x2 = Integer(dx.roots()[1][0])\n",
    "\n",
    "print(f'x1 = {x1}')\n",
    "print(f'x2 = {x2}')\n",
    "if is_on_curve(Point(x1, 0)):\n",
    "    print('x1 is on curve!')\n",
    "if is_on_curve(Point(x2, 0)):\n",
    "    print('x2 is on curve!')\n",
    "\n",
    "F.<x,y> = GF(p)[]\n",
    "f = x**3 + a*x + b\n",
    "G = Point(gx, gy)\n",
    "A = Point(Ax, Ay)\n",
    "B = Point(Bx, By)\n",
    "\n",
    "f_ = f.subs(x = x + x2)\n",
    "G_ = Point(G[0] - x2, G[1])\n",
    "A_ = Point(A[0] - x2, A[1])\n",
    "B_ = Point(B[0] - x2, B[1])\n",
    "\n",
    "print(f_.factor())"
   ]
  },
  {
   "cell_type": "code",
   "execution_count": 119,
   "metadata": {},
   "outputs": [
    {
     "data": {
      "text/plain": [
       "1532487521612462894579517163606359285989568203515734083099567402780433190052"
      ]
     },
     "execution_count": 119,
     "metadata": {},
     "output_type": "execute_result"
    }
   ],
   "source": [
    "alpha = 0\n",
    "beta = -2559728733519623462165709156994202738915871345165545624745656061903971797242\n",
    "t = GF(p)(alpha-beta).square_root()\n",
    "phi = (y+t*x) / (y-t*x)\n",
    "u = phi(A_[0], A_[1]) % p\n",
    "v = phi(G_[0], G_[1]) % p\n",
    "d = discrete_log(u, v)\n",
    "d"
   ]
  },
  {
   "cell_type": "code",
   "execution_count": 120,
   "metadata": {},
   "outputs": [
    {
     "data": {
      "text/plain": [
       "b'FLAG{adbffefdb46a99fad0042dd3c10fdc414fadd25c}\\x00\\x00\\x00\\x00\\x00\\x00\\x00\\x00\\x00\\x00\\x00\\x00\\x00\\x00\\x00\\x00\\x00\\x00'"
      ]
     },
     "execution_count": 120,
     "metadata": {},
     "output_type": "execute_result"
    }
   ],
   "source": [
    "enc = bytes.fromhex('1536c5b019bd24ddf9fc50de28828f727190ff121b709a6c63c4f823ec31780ad30d219f07a8c419c7afcdce900b6e89b37b18b6daede22e5445eb98f3ca2e40')\n",
    "\n",
    "k = point_multiply(B, d).x\n",
    "k = hashlib.sha512(str(k).encode('ascii')).digest()\n",
    "flag = bytes(ci ^^ ki for ci, ki in zip(enc.ljust(len(k), b'\\0'), k))\n",
    "flag"
   ]
  },
  {
   "cell_type": "code",
   "execution_count": null,
   "metadata": {},
   "outputs": [],
   "source": []
  }
 ],
 "metadata": {
  "kernelspec": {
   "display_name": "SageMath 9.0",
   "language": "sage",
   "name": "sagemath"
  },
  "language_info": {
   "codemirror_mode": {
    "name": "ipython",
    "version": 3
   },
   "file_extension": ".py",
   "mimetype": "text/x-python",
   "name": "python",
   "nbconvert_exporter": "python",
   "pygments_lexer": "ipython3",
   "version": "3.8.10"
  }
 },
 "nbformat": 4,
 "nbformat_minor": 4
}
